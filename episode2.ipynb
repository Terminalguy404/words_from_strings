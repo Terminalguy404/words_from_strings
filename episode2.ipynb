{
 "cells": [
  {
   "attachments": {},
   "cell_type": "markdown",
   "metadata": {},
   "source": [
    "### Find no of words from given string"
   ]
  },
  {
   "cell_type": "code",
   "execution_count": 1,
   "metadata": {},
   "outputs": [],
   "source": [
    "sample_string = 'Hello there, welcome to this yt channel. please support this channel.'"
   ]
  },
  {
   "cell_type": "code",
   "execution_count": 5,
   "metadata": {},
   "outputs": [],
   "source": [
    "# write your code here\n",
    "#len(sample_string)\n",
    "no_of_words = sample_string.count(' ') + 1"
   ]
  },
  {
   "cell_type": "code",
   "execution_count": 6,
   "metadata": {},
   "outputs": [
    {
     "name": "stdout",
     "output_type": "stream",
     "text": [
      "no of words in the given string is 11\n"
     ]
    }
   ],
   "source": [
    "# Print your output here\n",
    "print(f'no of words in the given string is {no_of_words}')"
   ]
  }
 ],
 "metadata": {
  "kernelspec": {
   "display_name": "Python 3",
   "language": "python",
   "name": "python3"
  },
  "language_info": {
   "codemirror_mode": {
    "name": "ipython",
    "version": 3
   },
   "file_extension": ".py",
   "mimetype": "text/x-python",
   "name": "python",
   "nbconvert_exporter": "python",
   "pygments_lexer": "ipython3",
   "version": "3.11.1"
  },
  "orig_nbformat": 4,
  "vscode": {
   "interpreter": {
    "hash": "35dc66fb56cd16c460134023984d31703a866f0c905b6ad9731d8e9cbdef115c"
   }
  }
 },
 "nbformat": 4,
 "nbformat_minor": 2
}
